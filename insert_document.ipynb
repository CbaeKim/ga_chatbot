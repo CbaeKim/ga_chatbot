{
 "cells": [
  {
   "cell_type": "markdown",
   "id": "942f4612",
   "metadata": {},
   "source": [
    "# **라이브러리 및 환경변수 설정**\n"
   ]
  },
  {
   "cell_type": "code",
   "execution_count": null,
   "id": "53a22430",
   "metadata": {},
   "outputs": [],
   "source": [
    "import pandas as pd\n",
    "from langchain_chroma import Chroma\n",
    "from langchain.retrievers import ContextualCompressionRetriever\n",
    "from langchain.retrievers.document_compressors import CrossEncoderReranker\n",
    "from langchain_community.cross_encoders import HuggingFaceCrossEncoder\n",
    "from langchain.retrievers.document_compressors import DocumentCompressorPipeline\n",
    "from langchain.retrievers.document_compressors import EmbeddingsFilter\n",
    "from langchain_huggingface import HuggingFaceEmbeddings\n",
    "from langchain_google_genai import ChatGoogleGenerativeAI\n",
    "from langchain_core.output_parsers import PydanticOutputParser\n",
    "from langchain_core.prompts import ChatPromptTemplate\n",
    "from pydantic import BaseModel, Field\n",
    "from supabase import create_client, Client\n",
    "from app.routers.vectorstore import request_table, text_files_to_docs, docs_text_split, docs_insert_db, db_to_document\n",
    "import os\n",
    "from typing import List\n",
    "\n",
    "\n",
    "SUPABASE_URL = os.getenv('SUPABASE_URL')\n",
    "SUPABASE_API_KEY = os.getenv('SUPABASE_API_KEY')\n",
    "\n",
    "supabase: Client = create_client(supabase_url=SUPABASE_URL, supabase_key=SUPABASE_API_KEY)\n",
    "\n",
    "def check_vectorstore_status():\n",
    "    collection = vector_store._collection\n",
    "    print(f\"저장된 문서 수: {collection.count()}\")\n",
    "    \n",
    "    # 샘플 검색으로 테스트\n",
    "    docs = retriever.get_relevant_documents(\"테스트\")\n",
    "    print(f\"검색된 문서 수: {len(docs)}\")\n",
    "    for doc in docs:\n",
    "        print(f\"문서 내용: {doc.page_content[:100]}...\")"
   ]
  },
  {
   "cell_type": "markdown",
   "id": "5c337259",
   "metadata": {},
   "source": [
    "# **신규 데이터 삽입**"
   ]
  },
  {
   "cell_type": "code",
   "execution_count": null,
   "id": "687c816f",
   "metadata": {},
   "outputs": [
    {
     "name": "stdout",
     "output_type": "stream",
     "text": [
      "[Alert] No Data in table\n",
      "[Alert] All data get Success\n",
      "[Alert] All data get Success\n"
     ]
    },
    {
     "name": "stderr",
     "output_type": "stream",
     "text": [
      "/opt/anaconda3/envs/ga_chatbot/lib/python3.11/site-packages/tqdm/auto.py:21: TqdmWarning: IProgress not found. Please update jupyter and ipywidgets. See https://ipywidgets.readthedocs.io/en/stable/user_install.html\n",
      "  from .autonotebook import tqdm as notebook_tqdm\n"
     ]
    },
    {
     "name": "stdout",
     "output_type": "stream",
     "text": [
      "[Alert] There is no Chroma DB, Create a new one.\n"
     ]
    }
   ],
   "source": [
    "# '.txt' files convert to Document object\n",
    "text_into_docs = text_files_to_docs(path = './data/GA_information')\n",
    "\n",
    "# Document object split chunk\n",
    "splitted_docs = docs_text_split(docs = text_into_docs, size= 500, overlap = 100, db = supabase)\n",
    "\n",
    "# New Documents insert into db\n",
    "docs_insert_db(splitted_docs = splitted_docs, db = supabase)\n",
    "\n",
    "# Load latest docs from the db\n",
    "latest_docs = db_to_document(db = supabase)\n",
    "\n",
    "# HuggingFaceModel Alert Disable\n",
    "os.environ[\"TOKENIZERS_PARALLELISM\"] = \"false\""
   ]
  },
  {
   "cell_type": "code",
   "execution_count": 4,
   "id": "94b72479",
   "metadata": {},
   "outputs": [
    {
     "name": "stderr",
     "output_type": "stream",
     "text": [
      "/opt/anaconda3/envs/ga_chatbot/lib/python3.11/site-packages/tqdm/auto.py:21: TqdmWarning: IProgress not found. Please update jupyter and ipywidgets. See https://ipywidgets.readthedocs.io/en/stable/user_install.html\n",
      "  from .autonotebook import tqdm as notebook_tqdm\n"
     ]
    },
    {
     "name": "stdout",
     "output_type": "stream",
     "text": [
      "[Alert] Discover DB, add data to existing DB.\n"
     ]
    }
   ],
   "source": [
    "# Define Embedding Model\n",
    "embedding = HuggingFaceEmbeddings(\n",
    "    model_name = 'FronyAI/frony-embed-large-ko-v1',\n",
    "    model_kwargs = {'device': 'mps'},\n",
    "    encode_kwargs = {'normalize_embeddings': True}\n",
    ")\n",
    "\n",
    "# Define Vectorstore path\n",
    "vectorstore_path = './ga_assistant_store'\n",
    "\n",
    "# If not exist vectorstore\n",
    "if not os.path.isdir(vectorstore_path):\n",
    "    print(\"[Alert] There is no Chroma DB, Create a new one.\")\n",
    "    vector_store = Chroma.from_documents(\n",
    "        documents = latest_docs,                    # Document 객체 리스트 (TextSplitter로 분할된 문서)\n",
    "        embedding = embedding,                      # 임베딩 모델 정의 변수\n",
    "        collection_name = \"ga_assistant\",           # 필요할 때 호출할 수 있는 컬렉션 이름 정의\n",
    "        persist_directory = vectorstore_path        # 로컬 경로 지정 (미지정 시 RAM에 저장 -> 휘발되니 경로 지정 필요)\n",
    "    )\n",
    "\n",
    "# If exist vectorstore\n",
    "else:\n",
    "    print(\"[Alert] Discover DB, add data to existing DB.\")\n",
    "    vector_store = Chroma(\n",
    "        collection_name = \"ga_assistant\",\n",
    "        embedding_function = embedding,\n",
    "        persist_directory = vectorstore_path\n",
    "    )\n",
    "\n",
    "    # Add new documents\n",
    "    # vector_store.add_documents(latest_docs)"
   ]
  },
  {
   "cell_type": "markdown",
   "id": "ba6961fc",
   "metadata": {},
   "source": [
    "# **Compressor retriever**"
   ]
  },
  {
   "cell_type": "code",
   "execution_count": 5,
   "id": "0567e59f",
   "metadata": {},
   "outputs": [],
   "source": [
    "retriever = vector_store.as_retriever(search_kwargs = {'k': 3})\n",
    "\n",
    "CrossEncoder = HuggingFaceCrossEncoder(model_name = 'BAAI/bge-reranker-v2-m3')\n",
    "\n",
    "re_ranker = CrossEncoderReranker(\n",
    "    model = CrossEncoder,\n",
    "    top_n = 2\n",
    ")\n",
    "\n",
    "EmbeddingFilter = EmbeddingsFilter(\n",
    "    embeddings = embedding,\n",
    "    similarity_threshold = 0.3\n",
    ")\n",
    "\n",
    "compressor_pipeline = DocumentCompressorPipeline(\n",
    "    transformers = [re_ranker, EmbeddingFilter]\n",
    ")\n",
    "\n",
    "final_retriever = ContextualCompressionRetriever(\n",
    "    base_compressor = compressor_pipeline,\n",
    "    base_retriever = retriever\n",
    ")"
   ]
  },
  {
   "cell_type": "markdown",
   "id": "1b2c1604",
   "metadata": {},
   "source": [
    "# **평가 데이터셋 생성**"
   ]
  },
  {
   "cell_type": "code",
   "execution_count": 12,
   "id": "73061fc5",
   "metadata": {},
   "outputs": [],
   "source": [
    "# Load API Key\n",
    "GEMINI_API_KEY = os.getenv('GEMINI_API_KEY')\n",
    "\n",
    "# Definition model object\n",
    "llm = ChatGoogleGenerativeAI(\n",
    "    model = 'gemini-2.5-flash',         # model name\n",
    "    google_api_key = GEMINI_API_KEY,    # API KEY\n",
    "    temperature = 0.3\n",
    ")"
   ]
  },
  {
   "cell_type": "markdown",
   "id": "d1a469ab",
   "metadata": {},
   "source": [
    "## **Pydantic Class**"
   ]
  },
  {
   "cell_type": "code",
   "execution_count": 10,
   "id": "b2f52ece",
   "metadata": {},
   "outputs": [
    {
     "data": {
      "text/plain": [
       "'The output should be formatted as a JSON instance that conforms to the JSON schema below.\\n\\nAs an example, for the schema {\"properties\": {\"foo\": {\"title\": \"Foo\", \"description\": \"a list of strings\", \"type\": \"array\", \"items\": {\"type\": \"string\"}}}, \"required\": [\"foo\"]}\\nthe object {\"foo\": [\"bar\", \"baz\"]} is a well-formatted instance of the schema. The object {\"properties\": {\"foo\": [\"bar\", \"baz\"]}} is not well-formatted.\\n\\nHere is the output schema:\\n```\\n{\"$defs\": {\"QAPair\": {\"properties\": {\"query\": {\"description\": \"AI가 생성한 질문 (write your question in KOREAN)\", \"title\": \"Query\", \"type\": \"string\"}, \"label\": {\"description\": \"질문의 대한 답 (write the answer to the fact_based question in KOREAN, making sure it reflects the essence of the question)\", \"title\": \"Label\", \"type\": \"string\"}}, \"required\": [\"query\", \"label\"], \"title\": \"QAPair\", \"type\": \"object\"}}, \"properties\": {\"qa_pairs\": {\"description\": \"query: label의 리스트\", \"items\": {\"$ref\": \"#/$defs/QAPair\"}, \"title\": \"Qa Pairs\", \"type\": \"array\"}}, \"required\": [\"qa_pairs\"]}\\n```'"
      ]
     },
     "execution_count": 10,
     "metadata": {},
     "output_type": "execute_result"
    }
   ],
   "source": [
    "class QAPair(BaseModel):\n",
    "    query: str = Field(description = \"AI가 생성한 질문 (write your question in KOREAN)\")\n",
    "    label: str = Field(description = \"질문의 대한 답 (write the answer to the fact_based question in KOREAN, making sure it reflects the essence of the question)\")\n",
    "\n",
    "class QASet(BaseModel):\n",
    "    qa_pairs: List[QAPair] = Field(description = \"query: label의 리스트\")\n",
    "\n",
    "pydantic_parser = PydanticOutputParser(pydantic_object = QASet)\n",
    "\n",
    "pydantic_parser.get_format_instructions()"
   ]
  },
  {
   "cell_type": "markdown",
   "id": "c3a0722c",
   "metadata": {},
   "source": [
    "## **Create Chain**"
   ]
  },
  {
   "cell_type": "code",
   "execution_count": 13,
   "id": "1089d066",
   "metadata": {},
   "outputs": [],
   "source": [
    "prompt_text = \"\"\n",
    "\n",
    "with open('./prompt/get_evaluation_data.txt', 'r') as f:\n",
    "    prompt_text = f.read()\n",
    "\n",
    "create_dataset_prompt = ChatPromptTemplate.from_template(\n",
    "    template = prompt_text,\n",
    "    partial_variables = {'format_instructions': pydantic_parser.get_format_instructions()}\n",
    ")\n",
    "\n",
    "chain = create_dataset_prompt | llm | pydantic_parser\n",
    "\n",
    "def create_dataset(context: str, num_questions: int) -> QASet:\n",
    "    \"\"\" Query functions using chains \"\"\"\n",
    "    return chain.invoke({'context': context, 'num_questions_per_chunk': num_questions})"
   ]
  },
  {
   "cell_type": "markdown",
   "id": "20e9e4fb",
   "metadata": {},
   "source": [
    "## **Create Evaluation DataSet**"
   ]
  },
  {
   "cell_type": "code",
   "execution_count": 6,
   "id": "ff6bc897",
   "metadata": {},
   "outputs": [
    {
     "name": "stdout",
     "output_type": "stream",
     "text": [
      "[Alert] All data get Success\n"
     ]
    },
    {
     "data": {
      "text/html": [
       "<div>\n",
       "<style scoped>\n",
       "    .dataframe tbody tr th:only-of-type {\n",
       "        vertical-align: middle;\n",
       "    }\n",
       "\n",
       "    .dataframe tbody tr th {\n",
       "        vertical-align: top;\n",
       "    }\n",
       "\n",
       "    .dataframe thead th {\n",
       "        text-align: right;\n",
       "    }\n",
       "</style>\n",
       "<table border=\"1\" class=\"dataframe\">\n",
       "  <thead>\n",
       "    <tr style=\"text-align: right;\">\n",
       "      <th></th>\n",
       "      <th>doc_id</th>\n",
       "      <th>file_name</th>\n",
       "      <th>page_content</th>\n",
       "      <th>date</th>\n",
       "    </tr>\n",
       "  </thead>\n",
       "  <tbody>\n",
       "    <tr>\n",
       "      <th>0</th>\n",
       "      <td>1</td>\n",
       "      <td>Guide_GA.txt</td>\n",
       "      <td>총무팀 업무 메뉴얼을 안내합니다.\\n\\n[총무팀 구성원]\\n1. 이동훈님 (이메일:...</td>\n",
       "      <td>2025-08-22</td>\n",
       "    </tr>\n",
       "    <tr>\n",
       "      <th>1</th>\n",
       "      <td>2</td>\n",
       "      <td>Guide_GA.txt</td>\n",
       "      <td>[업무 요청]\\n1. 유형자산, 무형자산 신청\\n 1) 현재 우리 회사는 직군 별 ...</td>\n",
       "      <td>2025-08-22</td>\n",
       "    </tr>\n",
       "    <tr>\n",
       "      <th>2</th>\n",
       "      <td>3</td>\n",
       "      <td>Guide_GA.txt</td>\n",
       "      <td>2. 정기 주차\\n 1) 안내 : 현재 우리 회사는 50대의 무료 주차분이 할당되어...</td>\n",
       "      <td>2025-08-22</td>\n",
       "    </tr>\n",
       "    <tr>\n",
       "      <th>3</th>\n",
       "      <td>4</td>\n",
       "      <td>Guide_GA.txt</td>\n",
       "      <td>3. 자산 외부 반출\\n 1) 안내 : 지급된 사내 자산에 대해선 보안상 외부 반출...</td>\n",
       "      <td>2025-08-22</td>\n",
       "    </tr>\n",
       "  </tbody>\n",
       "</table>\n",
       "</div>"
      ],
      "text/plain": [
       "  doc_id     file_name                                       page_content  \\\n",
       "0      1  Guide_GA.txt  총무팀 업무 메뉴얼을 안내합니다.\\n\\n[총무팀 구성원]\\n1. 이동훈님 (이메일:...   \n",
       "1      2  Guide_GA.txt  [업무 요청]\\n1. 유형자산, 무형자산 신청\\n 1) 현재 우리 회사는 직군 별 ...   \n",
       "2      3  Guide_GA.txt  2. 정기 주차\\n 1) 안내 : 현재 우리 회사는 50대의 무료 주차분이 할당되어...   \n",
       "3      4  Guide_GA.txt  3. 자산 외부 반출\\n 1) 안내 : 지급된 사내 자산에 대해선 보안상 외부 반출...   \n",
       "\n",
       "         date  \n",
       "0  2025-08-22  \n",
       "1  2025-08-22  \n",
       "2  2025-08-22  \n",
       "3  2025-08-22  "
      ]
     },
     "execution_count": 6,
     "metadata": {},
     "output_type": "execute_result"
    }
   ],
   "source": [
    "df = request_table('vectorstore', db = supabase)\n",
    "df.drop(['id', 'source'], axis = 1, inplace = True)\n",
    "\n",
    "df.head()"
   ]
  },
  {
   "cell_type": "code",
   "execution_count": 14,
   "id": "79328499",
   "metadata": {},
   "outputs": [],
   "source": [
    "qa_pairs = []\n",
    "\n",
    "for _, row in df.iterrows():\n",
    "    qa_pairs_row = create_dataset(row['page_content'], 10)\n",
    "    \n",
    "    for qa_pair_row in qa_pairs_row.qa_pairs:\n",
    "        qa_pairs.append(\n",
    "            {\n",
    "                'doc_id': row['doc_id'],\n",
    "                'context': row['page_content'],\n",
    "                'file_name': row['file_name'],\n",
    "                'date': row['date'],\n",
    "                'query': qa_pair_row.query,\n",
    "                'label': qa_pair_row.label\n",
    "            }\n",
    "        )\n",
    "\n",
    "final_df = pd.DataFrame(qa_pairs)"
   ]
  },
  {
   "cell_type": "code",
   "execution_count": 15,
   "id": "288ac2d3",
   "metadata": {},
   "outputs": [
    {
     "name": "stdout",
     "output_type": "stream",
     "text": [
      "<class 'pandas.core.frame.DataFrame'>\n",
      "RangeIndex: 40 entries, 0 to 39\n",
      "Data columns (total 6 columns):\n",
      " #   Column     Non-Null Count  Dtype \n",
      "---  ------     --------------  ----- \n",
      " 0   doc_id     40 non-null     object\n",
      " 1   context    40 non-null     object\n",
      " 2   file_name  40 non-null     object\n",
      " 3   date       40 non-null     object\n",
      " 4   query      40 non-null     object\n",
      " 5   label      40 non-null     object\n",
      "dtypes: object(6)\n",
      "memory usage: 2.0+ KB\n"
     ]
    }
   ],
   "source": [
    "final_df.info()"
   ]
  },
  {
   "cell_type": "code",
   "execution_count": 16,
   "id": "2bd0834b",
   "metadata": {},
   "outputs": [
    {
     "data": {
      "text/html": [
       "<div>\n",
       "<style scoped>\n",
       "    .dataframe tbody tr th:only-of-type {\n",
       "        vertical-align: middle;\n",
       "    }\n",
       "\n",
       "    .dataframe tbody tr th {\n",
       "        vertical-align: top;\n",
       "    }\n",
       "\n",
       "    .dataframe thead th {\n",
       "        text-align: right;\n",
       "    }\n",
       "</style>\n",
       "<table border=\"1\" class=\"dataframe\">\n",
       "  <thead>\n",
       "    <tr style=\"text-align: right;\">\n",
       "      <th></th>\n",
       "      <th>doc_id</th>\n",
       "      <th>context</th>\n",
       "      <th>file_name</th>\n",
       "      <th>date</th>\n",
       "      <th>query</th>\n",
       "      <th>label</th>\n",
       "    </tr>\n",
       "  </thead>\n",
       "  <tbody>\n",
       "    <tr>\n",
       "      <th>0</th>\n",
       "      <td>1</td>\n",
       "      <td>총무팀 업무 메뉴얼을 안내합니다.\\n\\n[총무팀 구성원]\\n1. 이동훈님 (이메일:...</td>\n",
       "      <td>Guide_GA.txt</td>\n",
       "      <td>2025-08-22</td>\n",
       "      <td>총무팀 구성원 중 한 명의 이름은 무엇인가요?</td>\n",
       "      <td>이동훈님입니다.</td>\n",
       "    </tr>\n",
       "    <tr>\n",
       "      <th>1</th>\n",
       "      <td>1</td>\n",
       "      <td>총무팀 업무 메뉴얼을 안내합니다.\\n\\n[총무팀 구성원]\\n1. 이동훈님 (이메일:...</td>\n",
       "      <td>Guide_GA.txt</td>\n",
       "      <td>2025-08-22</td>\n",
       "      <td>이동훈님의 이메일 주소는 무엇인가요?</td>\n",
       "      <td>main3373@gmail.com입니다.</td>\n",
       "    </tr>\n",
       "    <tr>\n",
       "      <th>2</th>\n",
       "      <td>1</td>\n",
       "      <td>총무팀 업무 메뉴얼을 안내합니다.\\n\\n[총무팀 구성원]\\n1. 이동훈님 (이메일:...</td>\n",
       "      <td>Guide_GA.txt</td>\n",
       "      <td>2025-08-22</td>\n",
       "      <td>이동훈님의 연락처는 몇 번인가요?</td>\n",
       "      <td>010-3271-7132입니다.</td>\n",
       "    </tr>\n",
       "    <tr>\n",
       "      <th>3</th>\n",
       "      <td>1</td>\n",
       "      <td>총무팀 업무 메뉴얼을 안내합니다.\\n\\n[총무팀 구성원]\\n1. 이동훈님 (이메일:...</td>\n",
       "      <td>Guide_GA.txt</td>\n",
       "      <td>2025-08-22</td>\n",
       "      <td>이동훈님의 역할 중 하나는 무엇인가요?</td>\n",
       "      <td>총무 일괄 지원입니다.</td>\n",
       "    </tr>\n",
       "    <tr>\n",
       "      <th>4</th>\n",
       "      <td>1</td>\n",
       "      <td>총무팀 업무 메뉴얼을 안내합니다.\\n\\n[총무팀 구성원]\\n1. 이동훈님 (이메일:...</td>\n",
       "      <td>Guide_GA.txt</td>\n",
       "      <td>2025-08-22</td>\n",
       "      <td>이동훈님은 어떤 IT 관련 지원을 담당하나요?</td>\n",
       "      <td>PC, 소프트웨어 장애 등 IT 관련 지원을 담당합니다.</td>\n",
       "    </tr>\n",
       "  </tbody>\n",
       "</table>\n",
       "</div>"
      ],
      "text/plain": [
       "  doc_id                                            context     file_name  \\\n",
       "0      1  총무팀 업무 메뉴얼을 안내합니다.\\n\\n[총무팀 구성원]\\n1. 이동훈님 (이메일:...  Guide_GA.txt   \n",
       "1      1  총무팀 업무 메뉴얼을 안내합니다.\\n\\n[총무팀 구성원]\\n1. 이동훈님 (이메일:...  Guide_GA.txt   \n",
       "2      1  총무팀 업무 메뉴얼을 안내합니다.\\n\\n[총무팀 구성원]\\n1. 이동훈님 (이메일:...  Guide_GA.txt   \n",
       "3      1  총무팀 업무 메뉴얼을 안내합니다.\\n\\n[총무팀 구성원]\\n1. 이동훈님 (이메일:...  Guide_GA.txt   \n",
       "4      1  총무팀 업무 메뉴얼을 안내합니다.\\n\\n[총무팀 구성원]\\n1. 이동훈님 (이메일:...  Guide_GA.txt   \n",
       "\n",
       "         date                      query                            label  \n",
       "0  2025-08-22  총무팀 구성원 중 한 명의 이름은 무엇인가요?                         이동훈님입니다.  \n",
       "1  2025-08-22       이동훈님의 이메일 주소는 무엇인가요?           main3373@gmail.com입니다.  \n",
       "2  2025-08-22         이동훈님의 연락처는 몇 번인가요?                010-3271-7132입니다.  \n",
       "3  2025-08-22      이동훈님의 역할 중 하나는 무엇인가요?                     총무 일괄 지원입니다.  \n",
       "4  2025-08-22  이동훈님은 어떤 IT 관련 지원을 담당하나요?  PC, 소프트웨어 장애 등 IT 관련 지원을 담당합니다.  "
      ]
     },
     "execution_count": 16,
     "metadata": {},
     "output_type": "execute_result"
    }
   ],
   "source": [
    "final_df.head()"
   ]
  }
 ],
 "metadata": {
  "kernelspec": {
   "display_name": "ga_chatbot",
   "language": "python",
   "name": "python3"
  },
  "language_info": {
   "codemirror_mode": {
    "name": "ipython",
    "version": 3
   },
   "file_extension": ".py",
   "mimetype": "text/x-python",
   "name": "python",
   "nbconvert_exporter": "python",
   "pygments_lexer": "ipython3",
   "version": "3.11.13"
  }
 },
 "nbformat": 4,
 "nbformat_minor": 5
}
